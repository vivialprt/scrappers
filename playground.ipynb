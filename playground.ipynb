{
 "cells": [
  {
   "cell_type": "code",
   "execution_count": 1,
   "metadata": {},
   "outputs": [],
   "source": [
    "import aiohttp\n",
    "import asyncio\n",
    "from bs4 import BeautifulSoup\n",
    "from selenium import webdriver\n",
    "import nest_asyncio\n",
    "nest_asyncio.apply()"
   ]
  },
  {
   "cell_type": "code",
   "execution_count": 56,
   "metadata": {},
   "outputs": [
    {
     "name": "stdout",
     "output_type": "stream",
     "text": [
      "Collecting selenium\n",
      "  Downloading selenium-3.141.0-py2.py3-none-any.whl (904 kB)\n",
      "\u001b[K     |████████████████████████████████| 904 kB 1.1 MB/s eta 0:00:01\n",
      "\u001b[?25hCollecting urllib3\n",
      "  Downloading urllib3-1.25.9-py2.py3-none-any.whl (126 kB)\n",
      "\u001b[K     |████████████████████████████████| 126 kB 3.3 MB/s eta 0:00:01\n",
      "\u001b[?25hInstalling collected packages: urllib3, selenium\n",
      "Successfully installed selenium-3.141.0 urllib3-1.25.9\n"
     ]
    }
   ],
   "source": [
    "!pip install selenium"
   ]
  },
  {
   "cell_type": "code",
   "execution_count": null,
   "metadata": {},
   "outputs": [],
   "source": [
    "'#page='"
   ]
  },
  {
   "cell_type": "code",
   "execution_count": 27,
   "metadata": {},
   "outputs": [],
   "source": [
    "LINK = 'https://r.onliner.by/ak/'\n",
    "LINKS_FILE = 'links.txt'"
   ]
  },
  {
   "cell_type": "code",
   "execution_count": 3,
   "metadata": {},
   "outputs": [],
   "source": [
    "async def fetch(session, url):\n",
    "    async with session.get(url) as response:\n",
    "        return await response.text()"
   ]
  },
  {
   "cell_type": "code",
   "execution_count": 4,
   "metadata": {},
   "outputs": [],
   "source": [
    "async def is_valid(session, url):\n",
    "    response = await session.get(url)\n",
    "    return True if response.status == 200 else False"
   ]
  },
  {
   "cell_type": "code",
   "execution_count": 29,
   "metadata": {
    "scrolled": true
   },
   "outputs": [],
   "source": [
    "async def parse_all_appartments():\n",
    "    # TODO\n",
    "    async with aiohttp.ClientSession() as session:\n",
    "        html = await fetch(session, 'https://r.onliner.by/ak/apartments/565696')\n",
    "        with open('html.html', 'w') as h:\n",
    "            h.write(html)\n",
    "        soup = BeautifulSoup(html, 'html.parser')\n",
    "        # print(soup.body.find('div', class_='layout_container'))\n",
    "        # print(soup)\n",
    "\n",
    "loop = asyncio.get_event_loop()\n",
    "loop.run_until_complete(parse_all_appartments())"
   ]
  },
  {
   "cell_type": "code",
   "execution_count": 20,
   "metadata": {},
   "outputs": [],
   "source": [
    "def get_appartments_links():\n",
    "    links = []\n",
    "    driver = webdriver.Firefox()\n",
    "    driver.get(LINK)\n",
    "    res = driver.execute_script('return document.documentElement.outerHTML')\n",
    "    soup = BeautifulSoup(res, 'html.parser')\n",
    "    links.extend(a['href'] for a in soup.find_all('a', class_='classified'))\n",
    "    pages = len(soup.find_all('li', class_='pagination-pages__item'))\n",
    "    for page in range (2, pages + 1):\n",
    "        driver.get(LINK + '#page=' + str(page))\n",
    "        res = driver.execute_script('return document.documentElement.outerHTML')\n",
    "        soup = BeautifulSoup(res, 'html.parser')\n",
    "        links.extend(a['href'] for a in soup.find_all('a', class_='classified'))\n",
    "\n",
    "    driver.quit()\n",
    "    return links, list(set(links))\n",
    "\n",
    "links, links_no_duplicates = get_appartments_links()"
   ]
  },
  {
   "cell_type": "code",
   "execution_count": 21,
   "metadata": {},
   "outputs": [
    {
     "name": "stdout",
     "output_type": "stream",
     "text": [
      "756 540\n"
     ]
    }
   ],
   "source": [
    "with open(LINKS_FILE, 'w') as f:"
   ]
  },
  {
   "cell_type": "code",
   "execution_count": null,
   "metadata": {},
   "outputs": [],
   "source": []
  }
 ],
 "metadata": {
  "kernelspec": {
   "display_name": "Python 3",
   "language": "python",
   "name": "python3"
  },
  "language_info": {
   "codemirror_mode": {
    "name": "ipython",
    "version": 3
   },
   "file_extension": ".py",
   "mimetype": "text/x-python",
   "name": "python",
   "nbconvert_exporter": "python",
   "pygments_lexer": "ipython3",
   "version": "3.8.2"
  }
 },
 "nbformat": 4,
 "nbformat_minor": 4
}
